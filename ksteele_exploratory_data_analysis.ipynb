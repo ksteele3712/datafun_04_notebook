{
 "cells": [
  {
   "cell_type": "markdown",
   "id": "0884378b",
   "metadata": {},
   "source": [
    "# Kristine Steele: Exploratory Data Analysis Project\n",
    "Welcome to your new Jupyter notebook for data exploration and analysis."
   ]
  },
  {
   "cell_type": "code",
   "execution_count": 14,
   "id": "fffeca23",
   "metadata": {},
   "outputs": [
    {
     "name": "stdout",
     "output_type": "stream",
     "text": [
      "Starting out with Jupyter.\n"
     ]
    }
   ],
   "source": [
    "import pandas as pd\n",
    "print(\"Starting out with Jupyter.\")"
   ]
  },
  {
   "cell_type": "markdown",
   "id": "98dbaec9",
   "metadata": {},
   "source": [
    "This is an example of markdown turning script into rainbow colors:\n",
    "\n",
    "<span style=\"font-size:1.2em; color:red;\">red</span>,\n",
    "<span style=\"font-size:1.2em; color:orange;\">orange</span>,\n",
    "<span style=\"font-size:1.2em; color:yellow;\">yellow</span>,\n",
    "<span style=\"font-size:1.2em; color:green;\">green</span>,\n",
    "<span style=\"font-size:1.2em; color:blue;\">blue</span>,\n",
    "<span style=\"font-size:1.2em; color:violet;\">violet</span>"
   ]
  },
  {
   "cell_type": "markdown",
   "id": "20f06da3",
   "metadata": {},
   "source": [
    "**Full Pyramid (large, asterisks):**\n",
    "<pre>      *\n",
    "     * *\n",
    "    * * *\n",
    "   * * * *\n",
    "  * * * * *\n",
    " * * * * * *\n",
    "* * * * * * *</pre>\n",
    "\n",
    "**Inverted Triangle (large, asterisks):**\n",
    "<pre>* * * * * * *\n",
    " * * * * * *\n",
    "  * * * * *\n",
    "   * * * *\n",
    "    * * *\n",
    "     * *\n",
    "      *</pre>"
   ]
  },
  {
   "cell_type": "code",
   "execution_count": 15,
   "id": "59c25ff5",
   "metadata": {},
   "outputs": [
    {
     "name": "stdout",
     "output_type": "stream",
     "text": [
      "   @\n",
      "  @@@\n",
      " @@@@@\n",
      "   |\n",
      "   |\n",
      "  / \\\n",
      " /   \\\n"
     ]
    }
   ],
   "source": [
    "flower = [\n",
    "    \"   @\",\n",
    "    \"  @@@\",\n",
    "    \" @@@@@\",\n",
    "    \"   |\",\n",
    "    \"   |\",\n",
    "    \"  / \\\\\",\n",
    "    \" /   \\\\\"\n",
    "]\n",
    "for line in flower:\n",
    "    print(line)"
   ]
  },
  {
   "cell_type": "code",
   "execution_count": 16,
   "id": "519618fb",
   "metadata": {},
   "outputs": [
    {
     "name": "stdout",
     "output_type": "stream",
     "text": [
      "    *\n",
      "   ***\n",
      "  *****\n",
      " *******\n",
      "*********\n",
      "   |||\n",
      "   |||\n"
     ]
    }
   ],
   "source": [
    "tree = [\n",
    "    \"    *\",\n",
    "    \"   ***\",\n",
    "    \"  *****\",\n",
    "    \" *******\",\n",
    "    \"*********\",\n",
    "    \"   |||\",\n",
    "    \"   |||\"\n",
    "]\n",
    "for line in tree:\n",
    "    print(line)"
   ]
  }
 ],
 "metadata": {
  "kernelspec": {
   "display_name": ".venv",
   "language": "python",
   "name": "python3"
  },
  "language_info": {
   "codemirror_mode": {
    "name": "ipython",
    "version": 3
   },
   "file_extension": ".py",
   "mimetype": "text/x-python",
   "name": "python",
   "nbconvert_exporter": "python",
   "pygments_lexer": "ipython3",
   "version": "3.13.7"
  }
 },
 "nbformat": 4,
 "nbformat_minor": 5
}
